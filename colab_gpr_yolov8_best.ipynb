## GPR Hyperbola Detection with YOLOv8 (Colab-ready)

- Enable GPU: Runtime → Change runtime type → Hardware accelerator → GPU
- Uses Colab's built-in PyTorch (no torch install)
- Pipeline: dataset → conversion → train → evaluate mAP → predict & visualize## GPR Hyperbola Detection with YOLOv8 (Colab-ready)

- Enable GPU: Runtime → Change runtime type → Hardware accelerator → GPU
- Uses Colab's built-in PyTorch (no torch install)
- Pipeline: dataset → conversion → train → evaluate mAP → predict & visualize
# GPU info (optional)
nvidia-smi | cat# Setup
!pip -q install ultralytics opencv-python numpy tqdm matplotlib

from ultralytics import YOLO
import torch
print("Ultralytics ready. Torch:", torch.__version__)
## GPR Hyperbola Detection with YOLOv8 (Colab-ready)

- Enable GPU: Runtime → Change runtime type → Hardware accelerator → GPU
- Uses Colab's built-in PyTorch (no torch install)
- Pipeline: dataset → conversion → train → evaluate mAP → predict & visualize
