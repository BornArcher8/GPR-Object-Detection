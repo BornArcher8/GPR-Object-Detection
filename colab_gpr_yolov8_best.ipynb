## 3.6. GAN Training Instructions and Options

**GAN Training Configuration:**
- Set `train_gan_flag = True` to enable GAN training (default)
- Set `train_gan_flag = False` to skip GAN training if you're short on time/resources
- Training takes approximately 30-60 minutes on T4 GPU with 500 epochs
- Generates 500 synthetic GPR images by default (configurable via `GANConfig.NUM_GENERATE`)

**Expected Improvements:**
- **Dataset Size**: Increases from ~171 to ~671 images (3.9x larger)
- **Model Robustness**: Synthetic images provide additional variation
- **mAP Performance**: Expected improvement of 2-5% based on original research
- **Training Stability**: More data typically leads to better convergence

**Memory Usage:**
- GAN training uses ~2-4GB GPU memory
- Compatible with Colab's T4 GPU (15GB)
- Batch size automatically adjusted for Colab environment

**Next Steps:**
1. Train GAN (or skip if desired)
2. Generate synthetic images  
3. Convert augmented dataset to YOLO format
4. Train YOLOv8 on augmented dataset
5. Compare performance with baseline# Generate synthetic images and integrate with dataset
def generate_synthetic_images(generator, num_images=GANConfig.NUM_GENERATE):
    """Generate synthetic GPR images and save them"""
    generator.eval()
    
    # Create directory for synthetic images
    synthetic_dir = Path('/content/data/gpr-data-classifier/synthetic_images')
    synthetic_dir.mkdir(exist_ok=True)
    
    print(f"Generating {num_images} synthetic GPR images...")
    
    generated_count = 0
    batch_size = 32  # Generate in batches to avoid memory issues
    
    with torch.no_grad():
        while generated_count < num_images:
            current_batch_size = min(batch_size, num_images - generated_count)
            
            # Generate noise and images
            noise = torch.randn(current_batch_size, GANConfig.Z_DIM, 1, 1, device=device)
            fake_images = generator(noise)
            fake_images = denormalize(fake_images)  # Convert to [0, 1]
            
            # Save images
            for i in range(current_batch_size):
                img_tensor = fake_images[i].cpu()
                img_array = (img_tensor.permute(1, 2, 0).numpy() * 255).astype(np.uint8)
                img_pil = Image.fromarray(img_array)
                
                img_path = synthetic_dir / f'synthetic_gpr_{generated_count:04d}.jpg'
                img_pil.save(img_path, quality=95)
                generated_count += 1
            
            if generated_count % 50 == 0:
                print(f"Generated {generated_count}/{num_images} images...")
    
    print(f"Successfully generated {num_images} synthetic images!")
    print(f"Saved to: {synthetic_dir}")
    
    return synthetic_dir

def create_augmented_dataset():
    """Create augmented dataset combining original and synthetic images"""
    original_images_dir = Path('/content/data/gpr-data-classifier/images')
    
    # Count original images
    original_count = len(list(original_images_dir.glob('*.jpg'))) + \
                    len(list(original_images_dir.glob('*.jpeg'))) + \
                    len(list(original_images_dir.glob('*.png')))
    
    print(f"Original dataset size: {original_count} images")
    
    # Generate synthetic images if GAN was trained
    if 'trained_generator' in globals():
        synthetic_dir = generate_synthetic_images(trained_generator)
        synthetic_count = len(list(synthetic_dir.glob('*.jpg')))
        print(f"Added {synthetic_count} synthetic images")
        print(f"Total augmented dataset size: {original_count + synthetic_count} images")
        
        # Create symbolic links or copy files to integrate datasets
        # This would be done in the dataset conversion step
        return True
    else:
        print("No trained generator available. Using original dataset only.")
        return False

# Run dataset augmentation
if train_gan_flag and 'trained_generator' in globals():
    augmentation_success = create_augmented_dataset()
else:
    print("Skipping synthetic image generation.")# Train GAN on original GPR dataset
def train_gan():
    # Load dataset
    print("Loading GPR dataset...")
    dataset = GPRDataset('/content/data/gpr-data-classifier/images', transform=transform)
    dataloader = DataLoader(dataset, batch_size=GANConfig.BATCH_SIZE, shuffle=True, num_workers=2)
    
    # Initialize networks
    print("Initializing networks...")
    generator = Generator().to(device)
    discriminator = Discriminator().to(device)
    
    # Apply weight initialization
    generator.apply(weights_init)
    discriminator.apply(weights_init)
    
    # Setup optimizers
    opt_G = optim.Adam(generator.parameters(), lr=GANConfig.LEARNING_RATE, 
                       betas=(GANConfig.BETA1, GANConfig.BETA2))
    opt_D = optim.Adam(discriminator.parameters(), lr=GANConfig.LEARNING_RATE, 
                       betas=(GANConfig.BETA1, GANConfig.BETA2))
    
    # Loss function
    criterion = nn.BCELoss()
    
    # Training loop
    print(f"Starting GAN training for {GANConfig.EPOCHS} epochs...")
    generator.train()
    discriminator.train()
    
    for epoch in range(GANConfig.EPOCHS):
        for i, real_images in enumerate(dataloader):
            batch_size = real_images.size(0)
            real_images = real_images.to(device)
            
            # Labels
            real_labels = torch.ones(batch_size, device=device)
            fake_labels = torch.zeros(batch_size, device=device)
            
            # Train Discriminator
            opt_D.zero_grad()
            
            # Real images
            output_real = discriminator(real_images)
            loss_D_real = criterion(output_real, real_labels)
            
            # Fake images
            noise = torch.randn(batch_size, GANConfig.Z_DIM, 1, 1, device=device)
            fake_images = generator(noise)
            output_fake = discriminator(fake_images.detach())
            loss_D_fake = criterion(output_fake, fake_labels)
            
            # Total discriminator loss
            loss_D = loss_D_real + loss_D_fake
            loss_D.backward()
            opt_D.step()
            
            # Train Generator
            opt_G.zero_grad()
            output_fake = discriminator(fake_images)
            loss_G = criterion(output_fake, real_labels)  # Generator wants to fool discriminator
            loss_G.backward()
            opt_G.step()
        
        # Print progress
        if epoch % 20 == 0 or epoch == GANConfig.EPOCHS - 1:
            print(f'Epoch [{epoch}/{GANConfig.EPOCHS}] | Loss_D: {loss_D.item():.4f} | Loss_G: {loss_G.item():.4f}')
        
        # Save sample images
        if epoch % GANConfig.SAVE_INTERVAL == 0 or epoch == GANConfig.EPOCHS - 1:
            save_sample_images(generator, epoch, device)
    
    print("GAN training completed!")
    return generator, discriminator

# Only run if you want to train the GAN (can be skipped if you have limited time/resources)
train_gan_flag = True  # Set to False to skip GAN training

if train_gan_flag:
    trained_generator, trained_discriminator = train_gan()
else:
    print("Skipping GAN training. Set train_gan_flag=True to enable.")# Weight initialization function
def weights_init(m):
    classname = m.__class__.__name__
    if classname.find('Conv') != -1:
        nn.init.normal_(m.weight.data, 0.0, 0.02)
    elif classname.find('BatchNorm') != -1:
        nn.init.normal_(m.weight.data, 1.0, 0.02)
        nn.init.constant_(m.bias.data, 0)

# Utility functions for training
def denormalize(tensor):
    """Convert tensor from [-1, 1] to [0, 1] for visualization"""
    return (tensor + 1) / 2

def save_sample_images(generator, epoch, device, num_samples=16):
    """Save sample generated images"""
    generator.eval()
    with torch.no_grad():
        noise = torch.randn(num_samples, GANConfig.Z_DIM, 1, 1, device=device)
        fake_images = generator(noise)
        fake_images = denormalize(fake_images)
        
        # Create grid
        fig, axes = plt.subplots(4, 4, figsize=(8, 8))
        for i, ax in enumerate(axes.flat):
            if i < num_samples:
                img = fake_images[i].cpu().permute(1, 2, 0)
                ax.imshow(img)
            ax.axis('off')
        
        plt.suptitle(f'Generated Images - Epoch {epoch}')
        plt.tight_layout()
        plt.show()
    generator.train()

print("Utility functions defined")# Discriminator Network - Based on original GPR_GAN architecture  
class Discriminator(nn.Module):
    def __init__(self, channels=GANConfig.CHANNELS, features=GANConfig.D_FEATURES):
        super(Discriminator, self).__init__()
        self.net = nn.Sequential(
            # Input: (batch_size, channels, 128, 128)
            # First layer: channels -> features, 64x64
            nn.Conv2d(channels, features, kernel_size=4, stride=2, padding=1, bias=False),
            nn.LeakyReLU(0.2, inplace=True),
            # (batch_size, features, 64, 64)
            
            # Second layer: features -> features*2, 32x32
            nn.Conv2d(features, features * 2, kernel_size=4, stride=2, padding=1, bias=False),
            nn.BatchNorm2d(features * 2),
            nn.LeakyReLU(0.2, inplace=True),
            # (batch_size, features*2, 32, 32)
            
            # Third layer: features*2 -> features*4, 16x16
            nn.Conv2d(features * 2, features * 4, kernel_size=4, stride=2, padding=1, bias=False),
            nn.BatchNorm2d(features * 4),
            nn.LeakyReLU(0.2, inplace=True),
            # (batch_size, features*4, 16, 16)
            
            # Fourth layer: features*4 -> features*8, 8x8
            nn.Conv2d(features * 4, features * 8, kernel_size=4, stride=2, padding=1, bias=False),
            nn.BatchNorm2d(features * 8),
            nn.LeakyReLU(0.2, inplace=True),
            # (batch_size, features*8, 8, 8)
            
            # Fifth layer: features*8 -> features*16, 4x4
            nn.Conv2d(features * 8, features * 16, kernel_size=4, stride=2, padding=1, bias=False),
            nn.BatchNorm2d(features * 16),
            nn.LeakyReLU(0.2, inplace=True),
            # (batch_size, features*16, 4, 4)
            
            # Final layer: features*16 -> 1, 1x1  
            nn.Conv2d(features * 16, 1, kernel_size=4, stride=1, padding=0, bias=False),
            nn.Sigmoid()  # Output probability [0, 1]
            # (batch_size, 1, 1, 1)
        )
    
    def forward(self, x):
        return self.net(x).view(-1, 1).squeeze(1)  # Flatten to (batch_size,)

# Test discriminator
disc = Discriminator().to(device)
test_output = disc(test_output)
print(f"Discriminator output shape: {test_output.shape}")
print("Discriminator defined successfully")# Generator Network - Based on original GPR_GAN architecture
class Generator(nn.Module):
    def __init__(self, z_dim=GANConfig.Z_DIM, channels=GANConfig.CHANNELS, features=GANConfig.G_FEATURES):
        super(Generator, self).__init__()
        self.net = nn.Sequential(
            # Input: (batch_size, z_dim, 1, 1)
            # First layer: z_dim -> features*16, 4x4
            nn.ConvTranspose2d(z_dim, features * 16, kernel_size=4, stride=1, padding=0, bias=False),
            nn.BatchNorm2d(features * 16),
            nn.ReLU(True),
            # (batch_size, features*16, 4, 4)
            
            # Second layer: features*16 -> features*8, 8x8  
            nn.ConvTranspose2d(features * 16, features * 8, kernel_size=4, stride=2, padding=1, bias=False),
            nn.BatchNorm2d(features * 8),
            nn.ReLU(True),
            # (batch_size, features*8, 8, 8)
            
            # Third layer: features*8 -> features*4, 16x16
            nn.ConvTranspose2d(features * 8, features * 4, kernel_size=4, stride=2, padding=1, bias=False),
            nn.BatchNorm2d(features * 4),
            nn.ReLU(True),
            # (batch_size, features*4, 16, 16)
            
            # Fourth layer: features*4 -> features*2, 32x32
            nn.ConvTranspose2d(features * 4, features * 2, kernel_size=4, stride=2, padding=1, bias=False),
            nn.BatchNorm2d(features * 2),
            nn.ReLU(True),
            # (batch_size, features*2, 32, 32)
            
            # Fifth layer: features*2 -> features, 64x64
            nn.ConvTranspose2d(features * 2, features, kernel_size=4, stride=2, padding=1, bias=False),
            nn.BatchNorm2d(features),
            nn.ReLU(True),
            # (batch_size, features, 64, 64)
            
            # Final layer: features -> channels, 128x128
            nn.ConvTranspose2d(features, channels, kernel_size=4, stride=2, padding=1, bias=False),
            nn.Tanh()  # Output in range [-1, 1]
            # (batch_size, channels, 128, 128)
        )
    
    def forward(self, x):
        return self.net(x)

# Test generator
gen = Generator().to(device)
test_noise = torch.randn(1, GANConfig.Z_DIM, 1, 1).to(device)
test_output = gen(test_noise)
print(f"Generator output shape: {test_output.shape}")
print("Generator defined successfully")# Custom Dataset for GPR Images
class GPRDataset(Dataset):
    def __init__(self, images_dir, transform=None):
        self.images_dir = Path(images_dir)
        self.image_paths = []
        
        # Collect all image files
        for ext in ['*.jpg', '*.jpeg', '*.png']:
            self.image_paths.extend(list(self.images_dir.glob(ext)))
        
        self.transform = transform
        print(f"Found {len(self.image_paths)} images in {images_dir}")
    
    def __len__(self):
        return len(self.image_paths)
    
    def __getitem__(self, idx):
        img_path = self.image_paths[idx]
        image = Image.open(img_path).convert('RGB')
        
        if self.transform:
            image = self.transform(image)
        
        return image

# Data transforms for GPR images
transform = transforms.Compose([
    transforms.Resize((GANConfig.IMAGE_SIZE, GANConfig.IMAGE_SIZE)),
    transforms.ToTensor(),
    transforms.Normalize((0.5, 0.5, 0.5), (0.5, 0.5, 0.5))  # Normalize to [-1, 1]
])

print("Dataset class and transforms defined")# GAN Implementation for GPR Image Generation
import torch
import torch.nn as nn
import torch.optim as optim
from torch.utils.data import Dataset, DataLoader
import numpy as np
import matplotlib.pyplot as plt
from PIL import Image
import os
from pathlib import Path
import torchvision.transforms as transforms

# Set device
device = torch.device("cuda" if torch.cuda.is_available() else "cpu")
print(f"Using device: {device}")

# GAN Configuration
class GANConfig:
    # Training parameters
    EPOCHS = 500  # Reduced from 1000 for faster training in Colab
    BATCH_SIZE = 32  # Smaller batch size for Colab
    LEARNING_RATE = 0.0002
    BETA1 = 0.5
    BETA2 = 0.999
    
    # Image parameters
    IMAGE_SIZE = 128  # 128x128 images
    CHANNELS = 3      # RGB
    
    # Generator parameters
    Z_DIM = 100       # Noise dimension
    G_FEATURES = 64   # Generator feature map size
    
    # Discriminator parameters
    D_FEATURES = 64   # Discriminator feature map size
    
    # Generation parameters
    NUM_GENERATE = 500  # Number of synthetic images to generate
    SAVE_INTERVAL = 50  # Save sample images every N epochs

print("GAN Configuration loaded")## 3.5. Data Augmentation with GAN (Optional but Recommended)

This section implements a GAN to generate synthetic GPR images, increasing the dataset size and potentially improving model performance.{
  "cells": [
    {
      "cell_type": "markdown",
      "metadata": {},
      "source": [
        "# GPR Hyperbola Detection with YOLOv8 (Colab-ready)\n",
        "\n",
        "This notebook implements YOLOv8 for Ground Penetrating Radar (GPR) hyperbola detection.\n",
        "\n",
        "**Setup Instructions:**\n",
        "- Enable GPU: Runtime → Change runtime type → Hardware accelerator → GPU\n",
        "- Uses Colab's built-in PyTorch (no torch install needed)\n",
        "- Pipeline: dataset → conversion → train → evaluate mAP → predict & visualize"
      ]
    },
    {
      "cell_type": "markdown",
      "metadata": {},
      "source": [
        "## 1. Setup and Installation"
      ]
    },
    {
      "cell_type": "code",
      "execution_count": null,
      "metadata": {},
      "outputs": [],
      "source": [
        "# GPU info (optional)\n",
        "!nvidia-smi | cat"
      ]
    },
    {
      "cell_type": "code",
      "execution_count": null,
      "metadata": {},
      "outputs": [],
      "source": [
        "# Setup\n",
        "!pip -q install ultralytics opencv-python numpy tqdm matplotlib\n",
        "\n",
        "from ultralytics import YOLO\n",
        "import torch\n",
        "print(\"Ultralytics ready. Torch:\", torch.__version__)"
      ]
    },
    {
      "cell_type": "markdown",
      "metadata": {},
      "source": [
        "## 2. Get Dataset"
      ]
    },
    {
      "cell_type": "code",
      "execution_count": null,
      "metadata": {},
      "outputs": [],
      "source": [
        "# Get dataset\n",
        "!mkdir -p /content/data\n",
        "!test -d /content/data/gpr-data-classifier || git clone https://github.com/irenexychen/gpr-data-classifier /content/data/gpr-data-classifier\n",
        "!ls -la /content/data/gpr-data-classifier | head -n 40"
      ]
    },
    {
      "cell_type": "markdown",
      "metadata": {},
      "source": [
        "## 3. Convert Dataset from VOC to YOLO Format"
      ]
    },
    {
      "cell_type": "code",
      "execution_count": null,
      "metadata": {},
      "outputs": [],
      "source": [
        "# Convert VOC XMLs to YOLO and create dataset YAML\n",
        "import os, random, shutil, xml.etree.ElementTree as ET\n",
        "from pathlib import Path\n",
        "\n",
        "def read_label_map(label_map_path: Path):\n",
        "    if not label_map_path.exists():\n",
        "        return [\"hyperbola\"]\n",
        "    text = label_map_path.read_text()\n",
        "    names = []\n",
        "    for line in text.splitlines():\n",
        "        line = line.strip()\n",
        "        if line.startswith(\"name:\"):\n",
        "            names.append(line.split(\":\", 1)[1].strip().strip('\\'\"\\''))\n",
        "    return names or [\"hyperbola\"]\n",
        "\n",
        "def convert_voc_box_to_yolo(bbox, img_w, img_h):\n",
        "    xmin, ymin, xmax, ymax = bbox\n",
        "    xmin = max(0, xmin - 1); ymin = max(0, ymin - 1)\n",
        "    xmax = min(img_w - 1, xmax - 1); ymax = min(img_h - 1, ymax - 1)\n",
        "    bw = xmax - xmin; bh = ymax - ymin\n",
        "    cx = xmin + bw / 2.0; cy = ymin + bh / 2.0\n",
        "    return (cx / img_w if img_w > 0 else 0.0,\n",
        "            cy / img_h if img_h > 0 else 0.0,\n",
        "            bw / img_w if img_w > 0 else 0.0,\n",
        "            bh / img_h if img_h > 0 else 0.0)\n",
        "\n",
        "def parse_voc_xml(xml_path: Path):\n",
        "    root = ET.parse(str(xml_path)).getroot()\n",
        "    size = root.find(\"size\")\n",
        "    img_w = int(size.find(\"width\").text); img_h = int(size.find(\"height\").text)\n",
        "    objects = []\n",
        "    for obj in root.findall(\"object\"):\n",
        "        name = obj.find(\"name\").text\n",
        "        bnd = obj.find(\"bndbox\")\n",
        "        xmin = int(float(bnd.find(\"xmin\").text))\n",
        "        ymin = int(float(bnd.find(\"ymin\").text))\n",
        "        xmax = int(float(bnd.find(\"xmax\").text))\n",
        "        ymax = int(float(bnd.find(\"ymax\").text))\n",
        "        objects.append((name, (xmin, ymin, xmax, ymax)))\n",
        "    return img_w, img_h, objects\n",
        "\n",
        "def ensure_dirs(paths):\n",
        "    for p in paths: Path(p).mkdir(parents=True, exist_ok=True)\n",
        "\n",
        "def write_dataset_yaml(output_root: Path, dataset_name: str, names: list):\n",
        "    yaml_path = output_root / f\"{dataset_name}.yaml\"\n",
        "    yaml_path.write_text(\n",
        "        f\"path: {output_root}\\ntrain: images/train\\nval: images/val\\nnames: {names}\\n\"\n",
        "    )\n",
        "    return yaml_path"
      ]
    },
    {
      "cell_type": "code",
      "execution_count": null,
      "metadata": {},
      "outputs": [],
      "source": [
        "def convert_dataset(source_root, output_root, val_split=0.2, seed=42, dataset_name=\"gpr\"):\n",
        "    random.seed(seed)\n",
        "    source_root = Path(source_root)\n",
        "    images_dir = source_root / \"images\"\n",
        "    xml_dir = source_root / \"annotations\" / \"xmls\"\n",
        "    label_map_path = source_root / \"annotations\" / \"label_map.pbtxt\"\n",
        "\n",
        "    assert images_dir.exists() and xml_dir.exists(), f\"Missing {images_dir} or {xml_dir}\"\n",
        "    class_names = read_label_map(label_map_path)\n",
        "    name_to_id = {n: i for i, n in enumerate(class_names)}\n",
        "\n",
        "    output_root = Path(output_root)\n",
        "    images_train = output_root / \"images\" / \"train\"\n",
        "    images_val = output_root / \"images\" / \"val\"\n",
        "    labels_train = output_root / \"labels\" / \"train\"\n",
        "    labels_val = output_root / \"labels\" / \"val\"\n",
        "    ensure_dirs([images_train, images_val, labels_train, labels_val])\n",
        "\n",
        "    xml_files = sorted([p for p in xml_dir.glob(\"*.xml\")])\n",
        "    samples = []\n",
        "    for xml_path in xml_files:\n",
        "        base = xml_path.stem\n",
        "        img_path = None\n",
        "        for ext in (\".jpg\", \".jpeg\", \".png\"):\n",
        "            cand = images_dir / f\"{base}{ext}\"\n",
        "            if cand.exists():\n",
        "                img_path = cand; break\n",
        "        if img_path is None:\n",
        "            try:\n",
        "                filename_node = ET.parse(str(xml_path)).getroot().find(\"filename\")\n",
        "                if filename_node is not None:\n",
        "                    cand = images_dir / filename_node.text\n",
        "                    if cand.exists(): img_path = cand\n",
        "            except Exception:\n",
        "                pass\n",
        "        if img_path is not None:\n",
        "            samples.append((img_path, xml_path))\n",
        "\n",
        "    assert len(samples) > 0, \"No image-xml pairs found.\"\n",
        "\n",
        "    random.shuffle(samples)\n",
        "    val_count = max(1, int(len(samples) * val_split))\n",
        "    val_samples = set(samples[:val_count])\n",
        "\n",
        "    def convert_and_copy(sample, subset):\n",
        "        img_path, xml_path = sample\n",
        "        try:\n",
        "            img_w, img_h, objects = parse_voc_xml(xml_path)\n",
        "        except Exception as e:\n",
        "            print(\"Parse error, skip:\", xml_path, e); return\n",
        "        lines = []\n",
        "        for name, bbox in objects:\n",
        "            if name not in name_to_id: continue\n",
        "            cls = name_to_id[name]\n",
        "            x, y, w, h = convert_voc_box_to_yolo(bbox, img_w, img_h)\n",
        "            if w <= 0 or h <= 0: continue\n",
        "            lines.append(f\"{cls} {x:.6f} {y:.6f} {w:.6f} {h:.6f}\")\n",
        "        if not lines: return\n",
        "        if subset == \"train\":\n",
        "            dst_img = images_train / img_path.name\n",
        "            dst_lbl = labels_train / (img_path.stem + \".txt\")\n",
        "        else:\n",
        "            dst_img = images_val / img_path.name\n",
        "            dst_lbl = labels_val / (img_path.stem + \".txt\")\n",
        "        shutil.copy2(str(img_path), str(dst_img))\n",
        "        dst_lbl.write_text(\"\\n\".join(lines) + \"\\n\")\n",
        "\n",
        "    for sample in samples:\n",
        "        subset = \"val\" if sample in val_samples else \"train\"\n",
        "        convert_and_copy(sample, subset)\n",
        "\n",
        "    yaml_path = write_dataset_yaml(output_root, dataset_name, class_names)\n",
        "    print(\"Done. YAML at:\", yaml_path)\n",
        "    print(\"Train images:\", len(list(images_train.glob('*'))), \"Val images:\", len(list(images_val.glob('*'))))\n",
        "    return str(yaml_path)"
      ]
    },
    {
      "cell_type": "code",
      "execution_count": null,
      "metadata": {},
      "outputs": [],
      "source": [
        "# Run conversion\n",
        "data_yaml = convert_dataset(\n",
        "    source_root=\"/content/data/gpr-data-classifier/hyperbola-classifier\",\n",
        "    output_root=\"/content/data/gpr_yolo\",\n",
        "    val_split=0.2, seed=42, dataset_name=\"gpr\"\n",
        ")\n",
        "print(\"Using data yaml:\", data_yaml)"
      ]
    },
    {
      "cell_type": "markdown",
      "metadata": {},
      "source": [
        "## 4. Train YOLOv8 Model"
      ]
    },
    {
      "cell_type": "code",
      "execution_count": null,
      "metadata": {},
      "outputs": [],
      "source": [
        "# Train YOLOv8 (strong settings for T4)\n",
        "from ultralytics import YOLO\n",
        "\n",
        "data_yaml = \"/content/data/gpr_yolo/gpr.yaml\"\n",
        "project = \"/content/Results/yolo_runs\"\n",
        "name = \"gpr_yolov8m_e150_i960_aug\"\n",
        "\n",
        "model = YOLO(\"yolov8m.pt\")  # try 'yolov8l.pt' if VRAM permits\n",
        "\n",
        "results = model.train(\n",
        "    data=data_yaml,\n",
        "    epochs=150,\n",
        "    imgsz=960,\n",
        "    batch=8,\n",
        "    patience=30,\n",
        "    lr0=0.01,\n",
        "    lrf=0.01,\n",
        "    weight_decay=0.0005,\n",
        "    momentum=0.937,\n",
        "    warmup_epochs=3.0,\n",
        "    hsv_h=0.015, hsv_s=0.7, hsv_v=0.4,\n",
        "    degrees=0.0, translate=0.1, scale=0.5, shear=0.0, perspective=0.0,\n",
        "    flipud=0.0, fliplr=0.5,\n",
        "    mosaic=0.7, mixup=0.1, copy_paste=0.0,\n",
        "    erasing=0.4,\n",
        "    project=project,\n",
        "    name=name,\n",
        ")\n",
        "print(results)\n",
        "\n",
        "best_weights = f\"{project}/{name}/weights/best.pt\"\n",
        "print(\"Best weights:\", best_weights)"
      ]
    },
    {
      "cell_type": "markdown",
      "metadata": {},
      "source": [
        "## 5. Evaluate Model Performance"
      ]
    },
    {
      "cell_type": "code",
      "execution_count": null,
      "metadata": {},
      "outputs": [],
      "source": [
        "# Evaluate mAP on val\n",
        "from ultralytics import YOLO\n",
        "\n",
        "model = YOLO(best_weights)\n",
        "metrics = model.val(\n",
        "    data=data_yaml,\n",
        "    split=\"val\",\n",
        "    imgsz=960,\n",
        "    batch=8,\n",
        "    conf=0.001,\n",
        "    iou=0.6,\n",
        "    plots=True,\n",
        "    project=\"/content/Results/yolo_val\",\n",
        "    name=\"gpr_eval\"\n",
        ")\n",
        "print(f\"mAP50-95: {metrics.box.map:.4f}\")\n",
        "print(f\"mAP50:    {metrics.box.map50:.4f}\")\n",
        "print(f\"mAP75:    {metrics.box.map75:.4f}\")"
      ]
    },
    {
      "cell_type": "markdown",
      "metadata": {},
      "source": [
        "## 6. Predict and Visualize Results"
      ]
    },
    {
      "cell_type": "code",
      "execution_count": null,
      "metadata": {},
      "outputs": [],
      "source": [
        "# Predict and visualize\n",
        "from ultralytics import YOLO\n",
        "from IPython.display import Image, display\n",
        "import glob\n",
        "\n",
        "model = YOLO(best_weights)\n",
        "_ = model.predict(\n",
        "    source=\"/content/data/gpr_yolo/images/val\",\n",
        "    imgsz=960,\n",
        "    save=True,\n",
        "    project=\"/content/Results/yolo_preds\",\n",
        "    name=\"preds\"\n",
        ")\n",
        "\n",
        "pred_imgs = sorted(glob.glob(\"/content/Results/yolo_preds/preds/*.jpg\"))[:12]\n",
        "for p in pred_imgs:\n",
        "    display(Image(filename=p))"
      ]
    }
  ],
  "metadata": {
    "kernelspec": {
      "display_name": "Python 3",
      "language": "python",
      "name": "python3"
    },
    "language_info": {
      "codemirror_mode": {
        "name": "ipython",
        "version": 3
      },
      "file_extension": ".py",
      "mimetype": "text/x-python",
      "name": "python",
      "nbconvert_exporter": "python",
      "pygments_lexer": "ipython3",
      "version": "3.8.5"
    }
  },
  "nbformat": 4,
  "nbformat_minor": 4
}